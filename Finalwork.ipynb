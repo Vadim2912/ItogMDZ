{
 "cells": [
  {
   "cell_type": "code",
   "execution_count": 26,
   "metadata": {},
   "outputs": [],
   "source": [
    "import pandas as pd\n",
    "import numpy as np\n",
    "import matplotlib.pyplot as plt\n",
    "import scipy.stats as sts\n",
    "%matplotlib inline\n",
    "from scipy.stats import norm\n",
    "import random\n",
    "import seaborn\n",
    "from scipy.stats import uniform\n",
    "from scipy.optimize import differential_evolution\n",
    "\n",
    "from numpy.random import choice\n",
    "from scipy.stats import *"
   ]
  },
  {
   "cell_type": "markdown",
   "metadata": {},
   "source": [
    "### Задание 1"
   ]
  },
  {
   "cell_type": "markdown",
   "metadata": {},
   "source": [
    "Дана матрица рейтингов фильмов (строки - пользователи (10 человек), столбцы - фильмы (15 фильмов))"
   ]
  },
  {
   "cell_type": "code",
   "execution_count": 34,
   "metadata": {},
   "outputs": [],
   "source": [
    "raitings = [[ 4,  4,  9,  4,  1,  6, 10,  7,  9,  6,  9,  2,  8,  6,  6],\n",
    "            [ 9,  2,  5, 10,  7,  8, 10,  5,  6,  2,  1,  6,  8,  9,  7],\n",
    "            [ 1,  6,  8,  8,  4,  9,  3,  8, 10,  5,  2,  6,  8,  1,  6],\n",
    "            [ 6,  1,  9,  7,  7,  9,  2,  3,  5,  1,  6,  6,  3,  2,  7],\n",
    "            [ 3,  7,  3,  5,  7,  9,  9,  6,  2,  9,  1,  2,  8, 10,  6],\n",
    "            [ 8,  3,  7,  3,  8,  6,  1,  8,  8,  6,  1,  9,  4, 10,  1],\n",
    "            [ 9,  8,  4,  8,  8, 10,  6,  1,  1,  2,  9,  5,  2,  7,  2],\n",
    "            [ 4,  1,  6,  4,  3, 10,  4,  4,  2,  8,  7,  9,  3,  8,  3],\n",
    "            [ 2,  7,  7,  6, 10,  6,  8,  9,  8,  6, 10,  1,  7, 10,  4],\n",
    "            [ 5, 10,  8,  8,  9,  7,  2,  9,  9, 10,  8,  8,  8,  6, 10]]"
   ]
  },
  {
   "cell_type": "markdown",
   "metadata": {},
   "source": [
    "<b> a) </b> Необходимо найти наиболее похожего пользователя по косинусной метрике для каждого из (ответ: 10 пар вида (x, y), где y - наиболее похожий пользователь на пользователя x)."
   ]
  },
  {
   "cell_type": "code",
   "execution_count": 35,
   "metadata": {},
   "outputs": [],
   "source": [
    "def cosine(a, b):\n",
    "#Подсчет косинуса угла между векторами по их координатам\n",
    "\n",
    "    # длины векторов\n",
    "    aLength = np.linalg.norm( a )\n",
    "    bLength = np.linalg.norm( b )\n",
    "    \n",
    "    return np.dot(a, b) / (aLength * bLength)"
   ]
  },
  {
   "cell_type": "code",
   "execution_count": 36,
   "metadata": {},
   "outputs": [
    {
     "name": "stdout",
     "output_type": "stream",
     "text": [
      "(1, 9)\n",
      "(2, 5)\n",
      "(3, 10)\n",
      "(4, 10)\n",
      "(5, 9)\n",
      "(6, 10)\n",
      "(7, 4)\n",
      "(8, 6)\n",
      "(9, 1)\n",
      "(10, 3)\n"
     ]
    }
   ],
   "source": [
    "for i in range (len(raitings)):   \n",
    "\n",
    "    # подсчет косинусного расстояния между пользователем и остальными --> получим список из 10 элементов:\n",
    "    dist = [cosine (raitings[i],raitings[j]) for j in range (len(raitings))]\n",
    "  \n",
    "\n",
    "    # из списка создаем кортежи из порядкового номера элемента + 1 и самого элемента:\n",
    "    d = list(enumerate(dist, 1))\n",
    "\n",
    "    # сортировка списка по убыванию элементов\n",
    "    d.sort (key = lambda i: i[1], reverse = True)\n",
    "   \n",
    "\n",
    "    # создание пар вида (пользователь, наиболее похожий на него пользователь) - нумерация с 1\n",
    "    user_pair = i+1, d[1][0]\n",
    "    print (user_pair)          \n"
   ]
  },
  {
   "cell_type": "markdown",
   "metadata": {},
   "source": [
    "<b> b) </b>Предположим, вы захотели сжать признаковые описания пользователя с 15 фильмов, до, скажем, 5-ти признаков, как вы это сделаете?"
   ]
  },
  {
   "cell_type": "code",
   "execution_count": 37,
   "metadata": {},
   "outputs": [
    {
     "name": "stdout",
     "output_type": "stream",
     "text": [
      "[[-23.41982063   5.36092136   3.83196779  -4.06950174   1.10267269]\n",
      " [-24.76774917  -4.52188701   1.35815965   1.58128545   8.59912002]\n",
      " [-22.27728589   6.96492049  -4.84461485  -0.47661647   3.37152266]\n",
      " [-19.4257757   -2.64575227  -6.86014009  -4.76604765   1.96075707]\n",
      " [-22.8146354   -0.51464093   7.70180188   4.42379773   1.29124163]\n",
      " [-21.76961656  -1.94294987  -4.56934779   8.32306487  -2.21887359]\n",
      " [-21.23427453  -9.78047778   1.16340271  -4.86074521  -2.60815471]\n",
      " [-19.97476815  -4.00048677  -1.67456316   1.1512346   -3.5637169 ]\n",
      " [-26.39306998   3.03090482   5.86422753  -1.67503491  -3.71500141]\n",
      " [-29.94016844   4.82012297  -3.48912415   0.05527083  -3.62526487]]\n"
     ]
    }
   ],
   "source": [
    "# исходная матрица рейтингов фильмов\n",
    "R = np.array (raitings) \n",
    "\n",
    "# Сингулярное разложение\n",
    "U, s, VT = np.linalg.svd(R)\n",
    "\n",
    "# нулевая матрица m x n\n",
    "S = np.zeros((R.shape[0], R.shape[1]))\n",
    "\n",
    "# матрица n x n на диагональ S\n",
    "S[:S.shape[0], :S.shape[0]] = np.diag(s)\n",
    "\n",
    "n_component = 5\n",
    "S = S[:, :n_component]\n",
    "VT = VT[:n_component, :]\n",
    "\n",
    "#B = U.dot(S.dot(VT))\n",
    "\n",
    "# сжатие до 5 признаков\n",
    "T = U.dot(S)\n",
    "\n",
    "print(T) "
   ]
  },
  {
   "cell_type": "markdown",
   "metadata": {},
   "source": [
    "### Задание 2"
   ]
  },
  {
   "cell_type": "markdown",
   "metadata": {},
   "source": [
    "Вычислите производную $tg^2(sin(x) + cos(2x+3))$ в точке $x_0=1$ на python и на бумаге (просто подставить точку в производную и ничего не упрощать)."
   ]
  },
  {
   "cell_type": "markdown",
   "metadata": {},
   "source": [
    "**Решение:**"
   ]
  },
  {
   "cell_type": "markdown",
   "metadata": {},
   "source": [
    "$f(x) = tg^2(sin(x)+cos(2x+3))$\n",
    "\n",
    "\n",
    "$f'(x) = 2tg(sin(x)+cos(2x+3))*tg'(sin(x)+cos(2x+3))*(sin(x)+cos(2x+3))' $\n",
    "\n",
    "$f'(x) = \\frac{2tg(sin(x)+cos(2x+3))}{(cos^2(sin(x)+cos(2x+3))}*(sin(x)'+cos(2x+3)'*2) $\n",
    "\n",
    "$f'(x) = \\frac{2tg(sin(x)+cos(2x+3))}{(cos^2(sin(x)+cos(2x+3))}*(cos(x)-2sin(2x+3)) $\n",
    "\n"
   ]
  },
  {
   "cell_type": "code",
   "execution_count": 38,
   "metadata": {},
   "outputs": [
    {
     "name": "stdout",
     "output_type": "stream",
     "text": [
      "Значение производной в точке х0 = 1 составляет 55.3859176464222\n"
     ]
    }
   ],
   "source": [
    "from scipy.misc import derivative\n",
    "\n",
    "def f(x):\n",
    "    return (np.tan (np.sin(x) + np.cos (2*x + 3)))**2\n",
    "\n",
    "print ('Значение производной в точке х0 = 1 составляет', derivative(f, 1.0, dx=1e-6, n=1))"
   ]
  },
  {
   "cell_type": "markdown",
   "metadata": {},
   "source": [
    "### Задание 3"
   ]
  },
  {
   "cell_type": "markdown",
   "metadata": {},
   "source": [
    "Дана функция с неизвестными параметрами a и b, вам также известны значения функции fx в точках x. Найдите оптимальные параметры a, b, минимизирующие абсолютную ошибку <b>error</b>"
   ]
  },
  {
   "cell_type": "code",
   "execution_count": 39,
   "metadata": {},
   "outputs": [],
   "source": [
    "def f(x, a, b):\n",
    "    return np.e**a * np.sin(b*x) + x"
   ]
  },
  {
   "cell_type": "code",
   "execution_count": 40,
   "metadata": {},
   "outputs": [],
   "source": [
    "x = np.array([0.        , 0.26315789, 0.52631579, 0.78947368, 1.05263158,\n",
    "       1.31578947, 1.57894737, 1.84210526, 2.10526316, 2.36842105,\n",
    "       2.63157895, 2.89473684, 3.15789474, 3.42105263, 3.68421053,\n",
    "       3.94736842, 4.21052632, 4.47368421, 4.73684211, 5.        ])"
   ]
  },
  {
   "cell_type": "code",
   "execution_count": 41,
   "metadata": {},
   "outputs": [],
   "source": [
    "fx = np.array([0.        , -12.01819092, -18.90968634, -17.68786571,\n",
    "        -8.7529108 ,   4.27524517,  16.06801336,  21.81250213,\n",
    "        19.22059845,   9.48411207,  -3.22273056, -13.48576488,\n",
    "       -16.91096359, -11.95866834,  -0.58630088,  12.56873816,\n",
    "        22.12489421,  24.20292139,  18.04522521,   6.33211092])"
   ]
  },
  {
   "cell_type": "code",
   "execution_count": 42,
   "metadata": {},
   "outputs": [
    {
     "data": {
      "image/png": "[encoded data removed]",
      "text/plain": [
       "<Figure size 432x288 with 1 Axes>"
      ]
     },
     "metadata": {
      "needs_background": "light"
     },
     "output_type": "display_data"
    }
   ],
   "source": [
    "plt.plot(x, fx)\n",
    "plt.show()"
   ]
  },
  {
   "cell_type": "code",
   "execution_count": 43,
   "metadata": {},
   "outputs": [],
   "source": [
    "def error(params):\n",
    "    return np.sum(np.abs(fx - f(x, params[0], params[1])))"
   ]
  },
  {
   "cell_type": "code",
   "execution_count": 44,
   "metadata": {},
   "outputs": [
    {
     "data": {
      "text/plain": [
       "(array([ 3. , -2.5]), 1.5163282505170628e-06)"
      ]
     },
     "execution_count": 44,
     "metadata": {},
     "output_type": "execute_result"
    }
   ],
   "source": [
    "rr = ((-5,5,0.25), (-5,5,0.25))\n",
    "res = brute (error, rr, full_output = True,finish=fmin)\n",
    "res[0], res[1]"
   ]
  },
  {
   "cell_type": "code",
   "execution_count": 45,
   "metadata": {},
   "outputs": [
    {
     "data": {
      "text/plain": [
       "     fun: 1.5110387376893186e-06\n",
       "     jac: array([141.43905975, 503.90950337])\n",
       " message: 'Optimization terminated successfully.'\n",
       "    nfev: 1923\n",
       "     nit: 61\n",
       " success: True\n",
       "       x: array([ 3. , -2.5])"
      ]
     },
     "execution_count": 45,
     "metadata": {},
     "output_type": "execute_result"
    }
   ],
   "source": [
    "bounds = [(-5, 5), (-5, 5)]\n",
    "result = differential_evolution(error, bounds, seed=50)\n",
    "result"
   ]
  },
  {
   "cell_type": "code",
   "execution_count": 46,
   "metadata": {},
   "outputs": [
    {
     "name": "stdout",
     "output_type": "stream",
     "text": [
      "Optimization terminated successfully.\n",
      "         Current function value: 0.000002\n",
      "         Iterations: 51\n",
      "         Function evaluations: 103\n"
     ]
    },
    {
     "data": {
      "text/plain": [
       "array([ 3. , -2.5])"
      ]
     },
     "execution_count": 46,
     "metadata": {},
     "output_type": "execute_result"
    }
   ],
   "source": [
    "res = minimize(error, [ 3. , -2.5] , method='nelder-mead', options={'xtol': 1e-8, 'disp': True})\n",
    "res.x"
   ]
  },
  {
   "cell_type": "markdown",
   "metadata": {},
   "source": [
    "**Ответ:**\n",
    "параметры a и b, при которых error минимальна: a = 3; b = -2.5"
   ]
  },
  {
   "cell_type": "markdown",
   "metadata": {},
   "source": [
    "### Задание 4"
   ]
  },
  {
   "cell_type": "markdown",
   "metadata": {},
   "source": [
    "Создайте собственную дискретную случайную величину с 20 значениями. Сгенерируйте 1000 выборок размера 50. Посчитайте среднее для каждой выборки. Постройте гистограмму распределения средних."
   ]
  },
  {
   "cell_type": "code",
   "execution_count": 56,
   "metadata": {},
   "outputs": [],
   "source": [
    "rv = sts.poisson(12)\n",
    "sample = rv.rvs(size=1000, random_state=20)"
   ]
  },
  {
   "cell_type": "code",
   "execution_count": 57,
   "metadata": {},
   "outputs": [
    {
     "data": {
      "text/plain": [
       "array([ 3,  4,  5,  6,  7,  8,  9, 10, 11, 12, 13, 14, 15, 16, 17, 18, 19,\n",
       "       20, 21, 22])"
      ]
     },
     "execution_count": 57,
     "metadata": {},
     "output_type": "execute_result"
    }
   ],
   "source": [
    "np.unique(sample)"
   ]
  },
  {
   "cell_type": "code",
   "execution_count": 58,
   "metadata": {},
   "outputs": [
    {
     "data": {
      "image/png": "[encoded data removed]",
      "text/plain": [
       "<Figure size 432x288 with 1 Axes>"
      ]
     },
     "metadata": {
      "needs_background": "light"
     },
     "output_type": "display_data"
    }
   ],
   "source": [
    "x = np.linspace(0,2,100)\n",
    "plt.hist(sample, density=True, bins=20, label='sample histogram')\n",
    "plt.legend()\n",
    "plt.ylabel('fraction of samples, $f(x)$')\n",
    "plt.xlabel('$x$')\n",
    "plt.show()"
   ]
  },
  {
   "cell_type": "code",
   "execution_count": 59,
   "metadata": {},
   "outputs": [],
   "source": [
    "# размер выборки\n",
    "n = 50 \n",
    "# количество выборок\n",
    "samples_count = 1000\n",
    "\n",
    "# средние\n",
    "avg = np.array([])\n",
    "\n",
    "for number in range (samples_count):\n",
    "    # генерация выборок\n",
    "    sample_ = rv.rvs(size=n)\n",
    "    avg = np.append(avg, sample_.mean())\n"
   ]
  },
  {
   "cell_type": "code",
   "execution_count": 60,
   "metadata": {},
   "outputs": [
    {
     "data": {
      "image/png": "[encoded data removed]",
      "text/plain": [
       "<Figure size 432x288 with 1 Axes>"
      ]
     },
     "metadata": {
      "needs_background": "light"
     },
     "output_type": "display_data"
    }
   ],
   "source": [
    "label_ = 'Average values - samples of ' + str(n) \n",
    "plt.hist(avg, density=True, label=label_)\n",
    "\n",
    "plt.legend()\n",
    "plt.ylabel('samples means')\n",
    "plt.xlabel('$x$')\n",
    "plt.show()"
   ]
  },
  {
   "cell_type": "markdown",
   "metadata": {},
   "source": [
    "### Задание 5"
   ]
  },
  {
   "cell_type": "markdown",
   "metadata": {},
   "source": [
    "Найдите собственные значения и собственные вектора матрицы (на python и на бумаге)\n",
    "\n",
    "[[1, -4],\n",
    "\n",
    " [1, 1]]"
   ]
  },
  {
   "cell_type": "code",
   "execution_count": 52,
   "metadata": {},
   "outputs": [
    {
     "name": "stdout",
     "output_type": "stream",
     "text": [
      "[[ 1 -4]\n",
      " [ 1  1]]\n"
     ]
    }
   ],
   "source": [
    "t = np.array([[1, -4],\n",
    "              [1, 1]])\n",
    "print(t)"
   ]
  },
  {
   "cell_type": "markdown",
   "metadata": {},
   "source": [
    "Матрица $\\begin{pmatrix}1 & -4\\\\ 1 & 1\\end{pmatrix} $\n",
    "\n",
    "Определитель матрицы   $\\begin{vmatrix}1 - \\lambda & -4\\\\ 1 & 1 - \\lambda\\end{vmatrix} = 0 $\n",
    "\n",
    "$(1 - \\lambda)^2+4 = 0$ \n",
    "\n",
    "$1 - 2\\lambda + \\lambda^2 +4 = 0 $ \n",
    "\n",
    "$\\lambda^2- 2\\lambda +5 = 0 $ \n",
    "\n",
    "$ D = 4 - 20 = -16 => $  характеристическое уравнение не имеет корней"
   ]
  },
  {
   "cell_type": "code",
   "execution_count": 53,
   "metadata": {},
   "outputs": [
    {
     "name": "stdout",
     "output_type": "stream",
     "text": [
      "Собственные значения:\n",
      "[1.+2.j 1.-2.j]\n",
      "\n",
      "Собственные векторы:\n",
      "[[0.89442719+0.j        0.89442719-0.j       ]\n",
      " [0.        -0.4472136j 0.        +0.4472136j]]\n"
     ]
    }
   ],
   "source": [
    "val, vect = np.linalg.eig(t)\n",
    "print('Собственные значения:')\n",
    "print(val)\n",
    "print('\\nСобственные векторы:')\n",
    "print(vect)"
   ]
  },
  {
   "cell_type": "markdown",
   "metadata": {},
   "source": [
    "В данном случае собственные значения и векторы - комплексные числа."
   ]
  },
  {
   "cell_type": "markdown",
   "metadata": {},
   "source": [
    "Для матрицы\n",
    "\n",
    "[[1, -4],\n",
    "\n",
    " [1, 1]]"
   ]
  },
  {
   "cell_type": "code",
   "execution_count": 54,
   "metadata": {},
   "outputs": [
    {
     "name": "stdout",
     "output_type": "stream",
     "text": [
      "[[1 4]\n",
      " [1 1]]\n"
     ]
    }
   ],
   "source": [
    "t1 = np.array([[1, 4],\n",
    "              [1, 1]])\n",
    "print(t1)"
   ]
  },
  {
   "cell_type": "code",
   "execution_count": 55,
   "metadata": {},
   "outputs": [
    {
     "name": "stdout",
     "output_type": "stream",
     "text": [
      "Собственные значения:\n",
      "[ 3. -1.]\n",
      "\n",
      "Собственные векторы:\n",
      "[[ 0.89442719 -0.89442719]\n",
      " [ 0.4472136   0.4472136 ]]\n"
     ]
    }
   ],
   "source": [
    "val1, vect1 = np.linalg.eig(t1)\n",
    "print('Собственные значения:')\n",
    "print(val1)\n",
    "print('\\nСобственные векторы:')\n",
    "print(vect1)"
   ]
  },
  {
   "cell_type": "markdown",
   "metadata": {},
   "source": [
    "Матрица $\\begin{pmatrix}1 & 4\\\\ 1 & 1\\end{pmatrix} $\n",
    "\n",
    "Определитель матрицы   $\\begin{vmatrix}1 - \\lambda & 4\\\\ 1 & 1 - \\lambda\\end{vmatrix} = 0 $\n",
    "\n",
    "$(1 - \\lambda)^2-4 = 0$ \n",
    "\n",
    "$(1 - \\lambda)^2 = 4$ \n",
    "\n",
    "$1 - \\lambda = 2 ;  1 - \\lambda = -2$ \n",
    "\n",
    "$\\lambda_1 = -1 ; \\lambda_2 = 3 $ "
   ]
  },
  {
   "cell_type": "markdown",
   "metadata": {},
   "source": [
    "$\\begin{equation*}\n",
    " \\begin{cases}\n",
    "   2x + 4y = 0, \n",
    "   \\\\\n",
    "   x + 2y = 0.\n",
    " \\end{cases}\n",
    "\\end{equation*}\\;\\;\\;$ \n",
    "$\\Rightarrow\\;$\n",
    "$ x = -2y$\n",
    "\n",
    "$\\begin{pmatrix}2 \\\\ -1\\end{pmatrix} $ - первый собственный вектор\n",
    "\n",
    "\n",
    "$\\begin{equation*}\n",
    " \\begin{cases}\n",
    "   -2x + 4y = 0, \n",
    "   \\\\\n",
    "   x - 2y = 0.\n",
    " \\end{cases}\n",
    "\\end{equation*}\\;\\;$\n",
    "$\\Rightarrow\\;$\n",
    "$ x = 2y$\n",
    "\n",
    "$\\begin{pmatrix}2 \\\\ 1\\end{pmatrix} $ - второй собственный вектор\n",
    "\n",
    "\n"
   ]
  },
  {
   "cell_type": "code",
   "execution_count": null,
   "metadata": {},
   "outputs": [],
   "source": []
  }
 ],
 "metadata": {
  "kernelspec": {
   "display_name": "Python 3",
   "language": "python",
   "name": "python3"
  },
  "language_info": {
   "codemirror_mode": {
    "name": "ipython",
    "version": 3
   },
   "file_extension": ".py",
   "mimetype": "text/x-python",
   "name": "python",
   "nbconvert_exporter": "python",
   "pygments_lexer": "ipython3",
   "version": "3.7.3"
  }
 },
 "nbformat": 4,
 "nbformat_minor": 2
}
